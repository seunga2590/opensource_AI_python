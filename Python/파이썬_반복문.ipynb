{
  "nbformat": 4,
  "nbformat_minor": 0,
  "metadata": {
    "colab": {
      "provenance": []
    },
    "kernelspec": {
      "name": "python3",
      "display_name": "Python 3"
    },
    "language_info": {
      "name": "python"
    }
  },
  "cells": [
    {
      "cell_type": "markdown",
      "source": [
        "01\n",
        "\n",
        "for문의 실행결과를 예측하라.\n",
        "\n",
        "```\n",
        "과일 = [\"사과\", \"귤\", \"수박\"]\n",
        "for 변수 in 과일:\n",
        "    print(변수)\n",
        "\n",
        "```"
      ],
      "metadata": {
        "id": "nj3TlapiH5L7"
      }
    },
    {
      "cell_type": "code",
      "source": [
        "# 과일 리스트 안의 변수들을 '변수'로 받아 for문을 이용해 하나씩 print\n",
        "\n",
        "사과\n",
        "귤 \n",
        "수박"
      ],
      "metadata": {
        "id": "daXA4ISFH4t-"
      },
      "execution_count": null,
      "outputs": []
    },
    {
      "cell_type": "markdown",
      "source": [
        "02\n",
        "\n",
        "for문의 실행결과를 예측하라.\n",
        "\n",
        "```\n",
        "과일 = [\"사과\", \"귤\", \"수박\"]\n",
        "for 변수 in 과일:\n",
        "  print(\"#####\")\n",
        "```"
      ],
      "metadata": {
        "id": "-IlHn2gZIZd_"
      }
    },
    {
      "cell_type": "code",
      "execution_count": null,
      "metadata": {
        "id": "D1wrhEPoH0q4",
        "colab": {
          "base_uri": "https://localhost:8080/"
        },
        "outputId": "fd64b1e9-a3e9-441a-9164-3e3b74800bf4"
      },
      "outputs": [
        {
          "output_type": "stream",
          "name": "stdout",
          "text": [
            "#####\n",
            "#####\n",
            "#####\n"
          ]
        }
      ],
      "source": [
        "# 결과\n",
        "#####\n",
        "#####\n",
        "#####\n",
        "# 과일 리스트 내의 변수 개수만큼 print('#####')를 반복 \n",
        "# 따라서, '#####'를 3번 반복"
      ]
    },
    {
      "cell_type": "markdown",
      "source": [
        "03\n",
        "\n",
        "다음 for 문과 동일한 기능을 수행하는 코드를 작성하세요.\n",
        "\n",
        "```\n",
        "for 변수 in [\"A\", \"B\", \"C\"]:\n",
        "  print(변수)\n",
        "```"
      ],
      "metadata": {
        "id": "y63R3vi1Ie9-"
      }
    },
    {
      "cell_type": "code",
      "source": [
        "# 1. 리스트 컴프리헨션 이용\n",
        "[i for i in ['A', 'B', 'C']]\n",
        "\n",
        "# 2. 리스트 슬라이스 이용\n",
        "a = ['A', 'B', 'C']\n",
        "print(a[0])\n",
        "print(a[1])\n",
        "print(a[2])\n",
        "\n",
        "# a리스트 내의 0번째, 1번째, 2번째 요소들을 print = for문을 이용해 a리스트 내의 요소를 하나씩 print"
      ],
      "metadata": {
        "id": "HVfkYSGSIiUd",
        "colab": {
          "base_uri": "https://localhost:8080/"
        },
        "outputId": "5a3ab4f9-4b5c-42ee-8a1f-e76626798eab"
      },
      "execution_count": null,
      "outputs": [
        {
          "output_type": "stream",
          "name": "stdout",
          "text": [
            "A\n",
            "B\n",
            "C\n"
          ]
        }
      ]
    },
    {
      "cell_type": "markdown",
      "source": [
        "04\n",
        "\n",
        "for문을 풀어서 동일한 동작을하는 코드를 작성하라.\n",
        "\n",
        "```\n",
        "for 변수 in [\"A\", \"B\", \"C\"]:\n",
        "  print(\"출력:\", 변수)\n",
        "```"
      ],
      "metadata": {
        "id": "ugFsFUIOIjV2"
      }
    },
    {
      "cell_type": "code",
      "source": [
        "#1. 리스트 컴프리헨션 이용\n",
        "['출력:' + i for i in ['A', 'B', 'C']]\n",
        "\n",
        "#2. 리스트 슬라이스 이용\n",
        "a = ['A', 'B', 'C']\n",
        "print('출력:', a[0])\n",
        "print('출력:', a[1])\n",
        "print('출력:', a[2])"
      ],
      "metadata": {
        "id": "5elfVCaGIlu5",
        "colab": {
          "base_uri": "https://localhost:8080/"
        },
        "outputId": "1f0eac3e-af16-4310-e253-f99976e0e7d2"
      },
      "execution_count": null,
      "outputs": [
        {
          "output_type": "stream",
          "name": "stdout",
          "text": [
            "출력: A\n",
            "출력: B\n",
            "출력: C\n"
          ]
        }
      ]
    },
    {
      "cell_type": "markdown",
      "source": [
        "05\n",
        "\n",
        "for문을 풀어서 동일한 동작을 하는 코드를 작성하라.\n",
        "\n",
        "```\n",
        "for 변수 in [\"A\", \"B\", \"C\"]:\n",
        "  b = 변수.lower()\n",
        "  print(\"변환:\", b)\n",
        "```"
      ],
      "metadata": {
        "id": "LnsnBSOdInw9"
      }
    },
    {
      "cell_type": "code",
      "source": [
        "#1. 리스트 컴프리헨션\n",
        "['변환:'+ i.lower() for i in ['A', 'B', 'C']]\n",
        "\n",
        "#2. 리스트 슬라이스\n",
        "a = ['A', 'B', 'C']\n",
        "print('변환:', a[0].lower())\n",
        "print('변환:', a[1].lower())\n",
        "print('변환:', a[2].lower())\n",
        "\n",
        "# 리스트 내의 각 요소들이 print되기 전 lower()을 통해 소문자로 변환되어 출력 = 리스트 내 요소를 하나씩 소문자로 변환해 출력하는 것과 동일"
      ],
      "metadata": {
        "id": "1ngoFd7EIrAo",
        "colab": {
          "base_uri": "https://localhost:8080/"
        },
        "outputId": "9a8d5fc2-f3ec-4674-e644-2d2e794d8c7f"
      },
      "execution_count": null,
      "outputs": [
        {
          "output_type": "stream",
          "name": "stdout",
          "text": [
            "변환: a\n",
            "변환: b\n",
            "변환: c\n"
          ]
        }
      ]
    },
    {
      "cell_type": "markdown",
      "source": [
        "06\n",
        "\n",
        "다음 코드를 for문으로 작성하라.\n",
        "\n",
        "```\n",
        "변수 = 10\n",
        "print(변수)\n",
        "변수 = 20\n",
        "print(변수)\n",
        "변수 = 30\n",
        "print(변수)\n",
        "```"
      ],
      "metadata": {
        "id": "fWee8nxXItat"
      }
    },
    {
      "cell_type": "code",
      "source": [
        "a = [10, 20, 30]\n",
        "#1. 리스트 컴프리헨션\n",
        "['변수 = '+ str(i) for i in a]\n",
        "\n",
        "#2. for문\n",
        "for i in a:\n",
        "  print('변수 = ', i)"
      ],
      "metadata": {
        "id": "Ts11q_cRIw7Q",
        "colab": {
          "base_uri": "https://localhost:8080/"
        },
        "outputId": "b7a172ee-2421-4348-c4d9-69a0a9008195"
      },
      "execution_count": null,
      "outputs": [
        {
          "output_type": "stream",
          "name": "stdout",
          "text": [
            "변수 =  10\n",
            "변수 =  20\n",
            "변수 =  30\n"
          ]
        }
      ]
    },
    {
      "cell_type": "markdown",
      "source": [
        "07\n",
        "\n",
        "다음 코드를 for문으로 작성하라.\n",
        "\n",
        "```\n",
        "print(10)\n",
        "print(20)\n",
        "print(30)\n",
        "```"
      ],
      "metadata": {
        "id": "JVBw3URdIyd4"
      }
    },
    {
      "cell_type": "code",
      "source": [
        "# 리스트 컴프리헨션\n",
        "a = [10, 20, 30]\n",
        "[i for i in a]\n",
        "\n",
        "#for문\n",
        "for i in a:\n",
        "  print(i)"
      ],
      "metadata": {
        "id": "XLvKeXuiI2HH",
        "colab": {
          "base_uri": "https://localhost:8080/"
        },
        "outputId": "ba5aab8e-fee7-4d38-d533-cdc2525127a7"
      },
      "execution_count": null,
      "outputs": [
        {
          "output_type": "stream",
          "name": "stdout",
          "text": [
            "10\n",
            "20\n",
            "30\n"
          ]
        }
      ]
    },
    {
      "cell_type": "markdown",
      "source": [
        "08\n",
        "\n",
        "다음 코드를 for문으로 작성하라.\n",
        "\n",
        "```\n",
        "print(10)\n",
        "print(\"-------\")\n",
        "print(20)\n",
        "print(\"-------\")\n",
        "print(30)\n",
        "print(\"-------\")\n",
        "```"
      ],
      "metadata": {
        "id": "2sDzJxplI3Jx"
      }
    },
    {
      "cell_type": "code",
      "source": [
        "# a리스트 내부의 요소를 i로 받아 하나씩 출력하고 하나 출력 후 '-----'를 함께 출력하는 것을 세 번 반복\n",
        "for i in a:\n",
        "  print(i)\n",
        "  print('-----')"
      ],
      "metadata": {
        "id": "z-XVoPVcI6s3",
        "colab": {
          "base_uri": "https://localhost:8080/"
        },
        "outputId": "cc84f383-2765-46a4-e759-9affd8d0e510"
      },
      "execution_count": null,
      "outputs": [
        {
          "output_type": "stream",
          "name": "stdout",
          "text": [
            "10\n",
            "-----\n",
            "20\n",
            "-----\n",
            "30\n",
            "-----\n"
          ]
        }
      ]
    },
    {
      "cell_type": "markdown",
      "source": [
        "09\n",
        "\n",
        "다음 코드를 for문으로 작성하라.\n",
        "\n",
        "```\n",
        "print(\"++++\")\n",
        "print(10)\n",
        "print(20)\n",
        "print(30)\n",
        "```"
      ],
      "metadata": {
        "id": "0oFn1hEnI-Y4"
      }
    },
    {
      "cell_type": "code",
      "source": [
        "a = ['++++', 10, 20, 30]\n",
        "[i for i in a]\n",
        "\n",
        "a = ['+++++', 10, 20, 30]\n",
        "for i in a:\n",
        "  print(i)"
      ],
      "metadata": {
        "id": "2EHBT0GUJAa3",
        "colab": {
          "base_uri": "https://localhost:8080/"
        },
        "outputId": "ec453d5d-7fc1-4837-9cc5-ed41a51db1e1"
      },
      "execution_count": null,
      "outputs": [
        {
          "output_type": "stream",
          "name": "stdout",
          "text": [
            "+++++\n",
            "10\n",
            "20\n",
            "30\n"
          ]
        }
      ]
    },
    {
      "cell_type": "markdown",
      "source": [
        "10\n",
        "\n",
        "다음 코드를 for문으로 작성하라.\n",
        "\n",
        "```\n",
        "print(\"-------\")\n",
        "print(\"-------\")\n",
        "print(\"-------\")\n",
        "print(\"-------\")\n",
        "```"
      ],
      "metadata": {
        "id": "s27YnAUAJB1q"
      }
    },
    {
      "cell_type": "code",
      "source": [
        "for _ in range(4): # range(4) = range(0, 4) -> 0부터 3까지 (0, 1, 2, 3) 따라서, 총 4번 반복한다. \n",
        "  print('------')"
      ],
      "metadata": {
        "id": "s5YJV3lDJDwW",
        "colab": {
          "base_uri": "https://localhost:8080/"
        },
        "outputId": "478d6494-a68f-4b3a-e4cc-925e4afeac7b"
      },
      "execution_count": null,
      "outputs": [
        {
          "output_type": "stream",
          "name": "stdout",
          "text": [
            "------\n",
            "------\n",
            "------\n",
            "------\n"
          ]
        }
      ]
    },
    {
      "cell_type": "markdown",
      "source": [
        "11\n",
        "\n",
        "다음과 같이 판매가가 저장된 리스트가 있을 때 부가세가 포함된 가격을 for 문을 사용해서 화면에 출력하라. 단 부가세는 10원으로 가정한다.\n",
        "\n",
        "```\n",
        "리스트 = [100, 200, 300]\n",
        "```\n",
        "```\n",
        "110\n",
        "210\n",
        "310\n",
        "```"
      ],
      "metadata": {
        "id": "UvtyvvC0JH5i"
      }
    },
    {
      "cell_type": "code",
      "source": [
        "L = [100, 200, 300]\n",
        "[i+10 for i in L]"
      ],
      "metadata": {
        "id": "VDjvFSV3JMHP",
        "colab": {
          "base_uri": "https://localhost:8080/"
        },
        "outputId": "e1704b8f-ab38-4b8b-b444-c13f30efe000"
      },
      "execution_count": null,
      "outputs": [
        {
          "output_type": "execute_result",
          "data": {
            "text/plain": [
              "[110, 210, 310]"
            ]
          },
          "metadata": {},
          "execution_count": 13
        }
      ]
    },
    {
      "cell_type": "markdown",
      "source": [
        "12\n",
        "\n",
        "for 문을 사용해서 리스트에 저장된 값을 다음과 같이 출력하라.\n",
        "```\n",
        "리스트 = [\"김밥\", \"라면\", \"튀김\"]\n",
        "```\n",
        "```\n",
        "오늘의 메뉴: 김밥\n",
        "오늘의 메뉴: 라면\n",
        "오늘의 메뉴: 튀김\n",
        "```"
      ],
      "metadata": {
        "id": "9vHlClebJNW_"
      }
    },
    {
      "cell_type": "code",
      "source": [
        "L = ['김밥', '라면', '튀김']\n",
        "for i in L:\n",
        "  print('오늘의 메뉴:',  i)"
      ],
      "metadata": {
        "id": "cRjsTI40JP-n",
        "colab": {
          "base_uri": "https://localhost:8080/"
        },
        "outputId": "b0ba8a9b-da89-456e-9927-96552475141f"
      },
      "execution_count": null,
      "outputs": [
        {
          "output_type": "stream",
          "name": "stdout",
          "text": [
            "오늘의 메뉴: 김밥\n",
            "오늘의 메뉴: 라면\n",
            "오늘의 메뉴: 튀김\n"
          ]
        }
      ]
    },
    {
      "cell_type": "markdown",
      "source": [
        "13\n",
        "\n",
        "리스트에 주식 종목이름이 저장돼 있다.\n",
        "\n",
        "```\n",
        "리스트 = [\"SK하이닉스\", \"삼성전자\", \"LG전자\"]\n",
        "```\n",
        "\n",
        "저장된 문자열의 길이를 다음과 같이 출력하라.\n",
        "```\n",
        "6\n",
        "4\n",
        "4\n",
        "```"
      ],
      "metadata": {
        "id": "ta3rV3l5JSAp"
      }
    },
    {
      "cell_type": "code",
      "source": [
        "L = ['SK하이닉스', '삼성전자', 'LG전자']\n",
        "for i in L:\n",
        "  print(len(i))"
      ],
      "metadata": {
        "id": "sUHH3BZVJVU-",
        "colab": {
          "base_uri": "https://localhost:8080/"
        },
        "outputId": "3715c7c6-7338-4981-c651-f2ec47a60370"
      },
      "execution_count": null,
      "outputs": [
        {
          "output_type": "stream",
          "name": "stdout",
          "text": [
            "6\n",
            "4\n",
            "4\n"
          ]
        }
      ]
    },
    {
      "cell_type": "markdown",
      "source": [
        "14\n",
        "\n",
        "리스트에는 동물이름이 문자열로 저장돼 있다.\n",
        "\n",
        "```\n",
        "리스트 = ['dog', 'cat', 'parrot']\n",
        "```\n",
        "\n",
        "동물 이름과 글자수를 다음과 같이 출력하라.\n",
        "\n",
        "```\n",
        "dog 3\n",
        "cat 3\n",
        "parrot 6\n",
        "```"
      ],
      "metadata": {
        "id": "a2CPgXHkJW9L"
      }
    },
    {
      "cell_type": "code",
      "source": [
        "L = ['dog', 'cat', 'parrot']\n",
        "for i in L:\n",
        "  print(i, len(i))"
      ],
      "metadata": {
        "id": "EWHBV3YaJdLn",
        "colab": {
          "base_uri": "https://localhost:8080/"
        },
        "outputId": "9d5e1c92-5a6e-4da3-ea42-4b5d64bab6ad"
      },
      "execution_count": null,
      "outputs": [
        {
          "output_type": "stream",
          "name": "stdout",
          "text": [
            "dog 3\n",
            "cat 3\n",
            "parrot 6\n"
          ]
        }
      ]
    },
    {
      "cell_type": "markdown",
      "source": [
        "15\n",
        "\n",
        "리스트에 동물 이름 저장돼 있다.\n",
        "\n",
        "```\n",
        "리스트 = ['dog', 'cat', 'parrot']\n",
        "```\n",
        "for문을 사용해서 동물 이름의 첫 글자만 출력하라.\n",
        "```\n",
        "d\n",
        "c\n",
        "p\n",
        "```"
      ],
      "metadata": {
        "id": "F9XzfitTJfKo"
      }
    },
    {
      "cell_type": "code",
      "source": [
        "L = ['dog', 'cat', 'parrot']\n",
        "for i in L:\n",
        "  print(i[0])"
      ],
      "metadata": {
        "id": "snm3tWIjJhd-",
        "colab": {
          "base_uri": "https://localhost:8080/"
        },
        "outputId": "998c2c6f-0e59-48ae-b9b9-cbd8749bc107"
      },
      "execution_count": null,
      "outputs": [
        {
          "output_type": "stream",
          "name": "stdout",
          "text": [
            "d\n",
            "c\n",
            "p\n"
          ]
        }
      ]
    },
    {
      "cell_type": "markdown",
      "source": [
        "16\n",
        "\n",
        "리스트에는 세 개의 숫자가 바인딩돼 있다.\n",
        "\n",
        "```\n",
        "리스트 = [1, 2, 3]\n",
        "```\n",
        "\n",
        "for문을 사용해서 다음과 같이 출력하라.\n",
        "```\n",
        "3 x 1\n",
        "3 x 2\n",
        "3 x 3\n",
        "```"
      ],
      "metadata": {
        "id": "hAynRh5oJkoC"
      }
    },
    {
      "cell_type": "code",
      "source": [
        "L = [1, 2, 3]\n",
        "for i in L:\n",
        "  print('3 x', i)"
      ],
      "metadata": {
        "id": "bp3yhyIhJnu2",
        "colab": {
          "base_uri": "https://localhost:8080/"
        },
        "outputId": "bf58ba25-d327-4e52-f9b4-58e90f9c6df1"
      },
      "execution_count": null,
      "outputs": [
        {
          "output_type": "stream",
          "name": "stdout",
          "text": [
            "3 x 1\n",
            "3 x 2\n",
            "3 x 3\n"
          ]
        }
      ]
    },
    {
      "cell_type": "markdown",
      "source": [
        "17\n",
        "\n",
        "리스트에는 세 개의 숫자가 바인딩돼 있다.\n",
        "\n",
        "```\n",
        "리스트 = [1, 2, 3]\n",
        "```\n",
        "for문을 사용해서 다음과 같이 출력하라.\n",
        "```\n",
        "3 x 1 = 3\n",
        "3 x 2 = 6\n",
        "3 x 3 = 9\n",
        "```"
      ],
      "metadata": {
        "id": "YQVozpP8JpUa"
      }
    },
    {
      "cell_type": "code",
      "source": [
        "L = [1, 2, 3]\n",
        "for i in L:\n",
        "  print('3 x', i , '=', 3*i)"
      ],
      "metadata": {
        "id": "nBz6rgCmJsjG",
        "colab": {
          "base_uri": "https://localhost:8080/"
        },
        "outputId": "488feb86-6a52-4aa1-a5f3-bd464816345c"
      },
      "execution_count": null,
      "outputs": [
        {
          "output_type": "stream",
          "name": "stdout",
          "text": [
            "3 x 1 = 3\n",
            "3 x 2 = 6\n",
            "3 x 3 = 9\n"
          ]
        }
      ]
    },
    {
      "cell_type": "markdown",
      "source": [
        "18\n",
        "\n",
        "리스트에는 네 개의 문자열이 바인딩돼 있다.\n",
        "\n",
        "```\n",
        "리스트 = [\"가\", \"나\", \"다\", \"라\"]\n",
        "```\n",
        "for문을 사용해서 다음과 같이 출력하라.\n",
        "```\n",
        "나\n",
        "다\n",
        "라\n",
        "```"
      ],
      "metadata": {
        "id": "E8QtxaNXJtn6"
      }
    },
    {
      "cell_type": "code",
      "source": [
        "L = ['가', '나', '다', '라']\n",
        "for i in L[1:]:\n",
        "  print(i)"
      ],
      "metadata": {
        "id": "X7K7V6LCJwuO",
        "colab": {
          "base_uri": "https://localhost:8080/"
        },
        "outputId": "47494bfa-9c9f-48cc-db87-26d9f78cbeb3"
      },
      "execution_count": null,
      "outputs": [
        {
          "output_type": "stream",
          "name": "stdout",
          "text": [
            "나\n",
            "다\n",
            "라\n"
          ]
        }
      ]
    },
    {
      "cell_type": "markdown",
      "source": [
        "19\n",
        "\n",
        "리스트에는 네 개의 문자열이 바인딩돼 있다.\n",
        "```\n",
        "리스트 = [\"가\", \"나\", \"다\", \"라\"]\n",
        "```\n",
        "for문을 사용해서 다음과 같이 출력하라.\n",
        "```\n",
        "가\n",
        "다\n",
        "```"
      ],
      "metadata": {
        "id": "4iJw6hJ4Jxzv"
      }
    },
    {
      "cell_type": "code",
      "source": [
        "L = ['가', '나', '다', '라']\n",
        "for i in range(0, 4, 2):\n",
        "  print(L[i])"
      ],
      "metadata": {
        "id": "E4cprX7uJz8G",
        "colab": {
          "base_uri": "https://localhost:8080/"
        },
        "outputId": "bd826d8c-f7bd-4fc8-c934-f5ba975b1f0f"
      },
      "execution_count": null,
      "outputs": [
        {
          "output_type": "stream",
          "name": "stdout",
          "text": [
            "가\n",
            "다\n"
          ]
        }
      ]
    },
    {
      "cell_type": "markdown",
      "source": [
        "20\n",
        "\n",
        "리스트에는 네 개의 문자열이 바인딩돼 있다.\n",
        "\n",
        "```\n",
        "리스트 = [\"가\", \"나\", \"다\", \"라\"]\n",
        "```\n",
        "for문을 사용해서 다음과 같이 출력하라.\n",
        "```\n",
        "라\n",
        "다\n",
        "나\n",
        "가\n",
        "```"
      ],
      "metadata": {
        "id": "epf3OrxVJ1HF"
      }
    },
    {
      "cell_type": "code",
      "source": [
        "L = ['가', '나', '다', '라']\n",
        "for i in L[::-1]:\n",
        "  print(i)"
      ],
      "metadata": {
        "id": "7CwSxNumJ3LW",
        "colab": {
          "base_uri": "https://localhost:8080/"
        },
        "outputId": "f3e148ea-fbd7-41aa-b69a-814690dc8b0a"
      },
      "execution_count": null,
      "outputs": [
        {
          "output_type": "stream",
          "name": "stdout",
          "text": [
            "라\n",
            "다\n",
            "나\n",
            "가\n"
          ]
        }
      ]
    },
    {
      "cell_type": "markdown",
      "source": [
        "21\n",
        "\n",
        "리스트에는 네 개의 정수가 저장돼 있다.\n",
        "\n",
        "```\n",
        "리스트 = [3, -20, -3, 44]\n",
        "```\n",
        "\n",
        "for문을 사용해서 리스트의 음수를 출력하라.\n",
        "```\n",
        "-20\n",
        "-3\n",
        "```"
      ],
      "metadata": {
        "id": "pE9fIqHDJ9s0"
      }
    },
    {
      "cell_type": "code",
      "source": [
        "L = [3, -20, -3, 44]\n",
        "for i in L:\n",
        "  if i < 0:\n",
        "    print(i)"
      ],
      "metadata": {
        "id": "dqe1ETKvKAlG",
        "colab": {
          "base_uri": "https://localhost:8080/"
        },
        "outputId": "411d1ae0-74a1-4167-d578-15ca6cd350dc"
      },
      "execution_count": null,
      "outputs": [
        {
          "output_type": "stream",
          "name": "stdout",
          "text": [
            "-20\n",
            "-3\n"
          ]
        }
      ]
    },
    {
      "cell_type": "markdown",
      "source": [
        "22\n",
        "\n",
        "for문을 사용해서 3의 배수만을 출력하라.\n",
        "\n",
        "```\n",
        "리스트 = [3, 100, 23, 44]\n",
        "```\n",
        "```\n",
        "3\n",
        "```"
      ],
      "metadata": {
        "id": "rPp1HHYqKCP0"
      }
    },
    {
      "cell_type": "code",
      "source": [
        "L = [3, 100, 23, 44]\n",
        "for i in L:\n",
        "  if i%3 == 0:\n",
        "    print(i)"
      ],
      "metadata": {
        "id": "WLQe83TpKE_1",
        "colab": {
          "base_uri": "https://localhost:8080/"
        },
        "outputId": "0452c380-77b4-4063-fa27-495d5fc29bc1"
      },
      "execution_count": null,
      "outputs": [
        {
          "output_type": "stream",
          "name": "stdout",
          "text": [
            "3\n"
          ]
        }
      ]
    },
    {
      "cell_type": "markdown",
      "source": [
        "23\n",
        "\n",
        "리스트에서 20 보다 작은 3의 배수를 출력하라\n",
        "```\n",
        "리스트 = [13, 21, 12, 14, 30, 18]\n",
        "```\n",
        "```\n",
        "12\n",
        "18\n",
        "```"
      ],
      "metadata": {
        "id": "sUimQT4sKGpf"
      }
    },
    {
      "cell_type": "code",
      "source": [
        "L = [13, 21, 12, 14, 30, 18]\n",
        "for i in L:\n",
        "  if i < 20 and i%3 == 0:\n",
        "    print(i)"
      ],
      "metadata": {
        "id": "APlCYIu_KJN0",
        "colab": {
          "base_uri": "https://localhost:8080/"
        },
        "outputId": "c334e208-e897-4d44-da4b-9e0c7bbed16b"
      },
      "execution_count": null,
      "outputs": [
        {
          "output_type": "stream",
          "name": "stdout",
          "text": [
            "12\n",
            "18\n"
          ]
        }
      ]
    },
    {
      "cell_type": "markdown",
      "source": [
        "24\n",
        "\n",
        "리스트에서 세 글자 이상의 문자를 화면에 출력하라\n",
        "\n",
        "```\n",
        "리스트 = [\"I\", \"study\", \"python\", \"language\", \"!\"]\n",
        "```\n",
        "```\n",
        "study\n",
        "python\n",
        "language\n",
        "```"
      ],
      "metadata": {
        "id": "4s0rksTRKKNS"
      }
    },
    {
      "cell_type": "code",
      "source": [
        "L = [\"I\", \"study\", \"python\", \"language\", \"!\"]\n",
        "for i in L:\n",
        "  if len(i) >= 3:\n",
        "    print(i)"
      ],
      "metadata": {
        "id": "LtTfqvmcKMzU",
        "colab": {
          "base_uri": "https://localhost:8080/"
        },
        "outputId": "321a30b8-c0e3-41c6-a48c-dbd158b0fb83"
      },
      "execution_count": null,
      "outputs": [
        {
          "output_type": "stream",
          "name": "stdout",
          "text": [
            "study\n",
            "python\n",
            "language\n"
          ]
        }
      ]
    },
    {
      "cell_type": "markdown",
      "source": [
        "25\n",
        "\n",
        "리스트에서 대문자만 화면에 출력하라.\n",
        "\n",
        "```\n",
        "리스트 = [\"A\", \"b\", \"c\", \"D\"]\n",
        "```\n",
        "```\n",
        "A\n",
        "D\n",
        "```\n",
        "(참고) isupper() 메서드는 대문자 여부를 판별합니다.\n",
        "```\n",
        ">> 변수 = \"A\"\n",
        ">> 변수.isupper()\n",
        "True\n",
        ">> 변수 = \"a\"\n",
        ">> 변수.isupper()\n",
        "False\n",
        "```"
      ],
      "metadata": {
        "id": "c5I7ebg9KOuC"
      }
    },
    {
      "cell_type": "code",
      "source": [
        "L = [\"A\", \"b\", \"c\", \"D\"]\n",
        "for i in L:\n",
        "  if i.isupper() == True:\n",
        "    print(i)"
      ],
      "metadata": {
        "id": "onxEPPu0KTIE",
        "colab": {
          "base_uri": "https://localhost:8080/"
        },
        "outputId": "5436e83d-8b64-429e-babe-29d189bfc268"
      },
      "execution_count": null,
      "outputs": [
        {
          "output_type": "stream",
          "name": "stdout",
          "text": [
            "A\n",
            "D\n"
          ]
        }
      ]
    },
    {
      "cell_type": "markdown",
      "source": [
        "26\n",
        "\n",
        "리스트에서 소문자만 화면에 출력하라.\n",
        "\n",
        "```\n",
        "리스트 = [\"A\", \"b\", \"c\", \"D\"]\n",
        "```\n",
        "```\n",
        "b\n",
        "c\n",
        "```"
      ],
      "metadata": {
        "id": "pohlP-hLKWR4"
      }
    },
    {
      "cell_type": "code",
      "source": [
        "L = ['A', 'b', 'c', 'D']\n",
        "for i in L:\n",
        "  if i.islower() == True:\n",
        "    print(i)"
      ],
      "metadata": {
        "id": "fAWX8SMkKZaz",
        "colab": {
          "base_uri": "https://localhost:8080/"
        },
        "outputId": "b0846bbc-6a46-48e7-d827-84887a6baa67"
      },
      "execution_count": null,
      "outputs": [
        {
          "output_type": "stream",
          "name": "stdout",
          "text": [
            "b\n",
            "c\n"
          ]
        }
      ]
    },
    {
      "cell_type": "markdown",
      "source": [
        "27\n",
        "\n",
        "이름의 첫 글자를 대문자로 변경해서 출력하라.\n",
        "\n",
        "```\n",
        "리스트 = ['dog', 'cat', 'parrot']\n",
        "```\n",
        "```\n",
        "Dog\n",
        "Cat\n",
        "Parrot\n",
        "```\n",
        "(참고) upper() 메서드는 문자열을 대문자로 변경합니다.\n",
        "```\n",
        ">> 변수 = \"a\"\n",
        ">> a.upper()\n",
        "A\n",
        ">> 변수 = \"abc\"\n",
        ">> 변수.upper()\n",
        "ABC\n",
        "```"
      ],
      "metadata": {
        "id": "Ha1hzXzgKa4-"
      }
    },
    {
      "cell_type": "code",
      "source": [
        "L = ['dog', 'cat', 'parrot']\n",
        "for i in L:\n",
        "  print(i.capitalize())"
      ],
      "metadata": {
        "id": "QI-6JVfEKesL",
        "colab": {
          "base_uri": "https://localhost:8080/"
        },
        "outputId": "fbb86d62-5b27-461e-cded-1f07af891a05"
      },
      "execution_count": null,
      "outputs": [
        {
          "output_type": "stream",
          "name": "stdout",
          "text": [
            "Dog\n",
            "Cat\n",
            "Parrot\n"
          ]
        }
      ]
    },
    {
      "cell_type": "markdown",
      "source": [
        "28\n",
        "\n",
        "파일 이름이 저장된 리스트에서 확장자를 제거하고 파일 이름만 화면에 출력하라. (힌트: split() 메서드)\n",
        "\n",
        "```\n",
        "리스트 = ['hello.py', 'ex01.py', 'intro.hwp']\n",
        "```\n",
        "```\n",
        "hello\n",
        "ex01\n",
        "intro\n",
        "```"
      ],
      "metadata": {
        "id": "K6BlXeW-KgkB"
      }
    },
    {
      "cell_type": "code",
      "source": [
        "L = ['hello.py', 'ex01.py', 'intro.hwp']\n",
        "\n",
        "for i in L:\n",
        "  print(i.split('.')[0])"
      ],
      "metadata": {
        "id": "6qUacxDKKku7",
        "colab": {
          "base_uri": "https://localhost:8080/"
        },
        "outputId": "dfbfbb42-308d-480b-f79f-c8d051feb7ee"
      },
      "execution_count": null,
      "outputs": [
        {
          "output_type": "stream",
          "name": "stdout",
          "text": [
            "hello\n",
            "ex01\n",
            "intro\n"
          ]
        }
      ]
    },
    {
      "cell_type": "markdown",
      "source": [
        "29\n",
        "파일 이름이 저장된 리스트에서 확장자가 .h인 파일 이름을 출력하라.\n",
        "\n",
        "```\n",
        "리스트 = ['intra.h', 'intra.c', 'define.h', 'run.py']\n",
        "```\n",
        "```\n",
        "intra.h\n",
        "define.h\n",
        "```"
      ],
      "metadata": {
        "id": "W-AMGKPBKl-5"
      }
    },
    {
      "cell_type": "code",
      "source": [
        "L = ['intra.h', 'intra.c', 'define.h', 'run.py']\n",
        "for i in L:\n",
        "  if '.h' in i:\n",
        "    print(i)"
      ],
      "metadata": {
        "id": "RNTWAoItKoV7",
        "colab": {
          "base_uri": "https://localhost:8080/"
        },
        "outputId": "8e065cb3-53df-4ce4-cf3e-7b57e1fa3a57"
      },
      "execution_count": null,
      "outputs": [
        {
          "output_type": "stream",
          "name": "stdout",
          "text": [
            "intra.h\n",
            "define.h\n"
          ]
        }
      ]
    },
    {
      "cell_type": "markdown",
      "source": [
        "30\n",
        "파일 이름이 저장된 리스트에서 확장자가 .h나 .c인 파일을 화면에 출력하라.\n",
        "\n",
        "```\n",
        "리스트 = ['intra.h', 'intra.c', 'define.h', 'run.py']\n",
        "```\n",
        "```\n",
        "intra.h\n",
        "intra.c\n",
        "define.h\n",
        "```"
      ],
      "metadata": {
        "id": "GxnB0sOfKpZx"
      }
    },
    {
      "cell_type": "code",
      "source": [
        "L = ['intra.h', 'intra.c', 'define.h', 'run.py']\n",
        "for i in L:\n",
        "  if ('.h' in i) | ('.c' in i):\n",
        "    print(i)"
      ],
      "metadata": {
        "id": "gw7SzLG3KuNa",
        "colab": {
          "base_uri": "https://localhost:8080/"
        },
        "outputId": "fd00aeaa-f48e-4d8b-cc26-8d83a4712fb4"
      },
      "execution_count": null,
      "outputs": [
        {
          "output_type": "stream",
          "name": "stdout",
          "text": [
            "intra.h\n",
            "intra.c\n",
            "define.h\n"
          ]
        }
      ]
    },
    {
      "cell_type": "markdown",
      "source": [
        "31\n",
        "\n",
        "for문과 range 구문을 사용해서 0~99까지 한 라인에 하나씩 순차적으로 출력하는 프로그램을 작성하라."
      ],
      "metadata": {
        "id": "N86eI1PPKyP-"
      }
    },
    {
      "cell_type": "code",
      "source": [
        "for _ in range(100):\n",
        "  print(_)"
      ],
      "metadata": {
        "id": "5W6zECT9Kz-S",
        "colab": {
          "base_uri": "https://localhost:8080/"
        },
        "outputId": "05bc6c6e-a1dc-4e74-e794-79a2b0026c7f"
      },
      "execution_count": null,
      "outputs": [
        {
          "output_type": "stream",
          "name": "stdout",
          "text": [
            "0\n",
            "1\n",
            "2\n",
            "3\n",
            "4\n",
            "5\n",
            "6\n",
            "7\n",
            "8\n",
            "9\n",
            "10\n",
            "11\n",
            "12\n",
            "13\n",
            "14\n",
            "15\n",
            "16\n",
            "17\n",
            "18\n",
            "19\n",
            "20\n",
            "21\n",
            "22\n",
            "23\n",
            "24\n",
            "25\n",
            "26\n",
            "27\n",
            "28\n",
            "29\n",
            "30\n",
            "31\n",
            "32\n",
            "33\n",
            "34\n",
            "35\n",
            "36\n",
            "37\n",
            "38\n",
            "39\n",
            "40\n",
            "41\n",
            "42\n",
            "43\n",
            "44\n",
            "45\n",
            "46\n",
            "47\n",
            "48\n",
            "49\n",
            "50\n",
            "51\n",
            "52\n",
            "53\n",
            "54\n",
            "55\n",
            "56\n",
            "57\n",
            "58\n",
            "59\n",
            "60\n",
            "61\n",
            "62\n",
            "63\n",
            "64\n",
            "65\n",
            "66\n",
            "67\n",
            "68\n",
            "69\n",
            "70\n",
            "71\n",
            "72\n",
            "73\n",
            "74\n",
            "75\n",
            "76\n",
            "77\n",
            "78\n",
            "79\n",
            "80\n",
            "81\n",
            "82\n",
            "83\n",
            "84\n",
            "85\n",
            "86\n",
            "87\n",
            "88\n",
            "89\n",
            "90\n",
            "91\n",
            "92\n",
            "93\n",
            "94\n",
            "95\n",
            "96\n",
            "97\n",
            "98\n",
            "99\n"
          ]
        }
      ]
    },
    {
      "cell_type": "markdown",
      "source": [
        "32\n",
        "\n",
        "월드컵은 4년에 한 번 개최된다. range()를 사용하여 2002~2050년까지 중 월드컵이 개최되는 연도를 출력하라.\n",
        "\n",
        "```\n",
        "2002\n",
        "2006\n",
        "2010\n",
        "...\n",
        "2042\n",
        "2046\n",
        "2050\n",
        "```\n",
        "참고) range의 세번 째 파라미터는 증감폭을 결정합니다.\n",
        "```\n",
        ">> print(list(range(0, 10, 2)))\n",
        "[0, 2, 4, 6, 8]\n",
        "```"
      ],
      "metadata": {
        "id": "OLQV0U2tK0pv"
      }
    },
    {
      "cell_type": "code",
      "source": [
        "for i in range(2002, 2051, 4):\n",
        "  print(i)"
      ],
      "metadata": {
        "id": "xwcDf1hlK5Mq",
        "colab": {
          "base_uri": "https://localhost:8080/"
        },
        "outputId": "9310608f-4d5b-4168-d24e-472d63c37ebf"
      },
      "execution_count": null,
      "outputs": [
        {
          "output_type": "stream",
          "name": "stdout",
          "text": [
            "2002\n",
            "2006\n",
            "2010\n",
            "2014\n",
            "2018\n",
            "2022\n",
            "2026\n",
            "2030\n",
            "2034\n",
            "2038\n",
            "2042\n",
            "2046\n",
            "2050\n"
          ]
        }
      ]
    },
    {
      "cell_type": "markdown",
      "source": [
        "33\n",
        "\n",
        "1부터 30까지의 숫자 중 3의 배수를 출력하라.\n",
        "\n",
        "```\n",
        "3 \n",
        "6 \n",
        "9 \n",
        "12 \n",
        "15 \n",
        "18 \n",
        "21 \n",
        "24 \n",
        "27 \n",
        "30\n",
        "```"
      ],
      "metadata": {
        "id": "cd3f89TZK65s"
      }
    },
    {
      "cell_type": "code",
      "source": [
        "for i in range(1, 31):\n",
        "  if i % 3 == 0:\n",
        "    print(i)"
      ],
      "metadata": {
        "id": "6e8A_2p-K-n6",
        "colab": {
          "base_uri": "https://localhost:8080/"
        },
        "outputId": "49c6264c-7048-4fab-e833-da3fc6f60083"
      },
      "execution_count": null,
      "outputs": [
        {
          "output_type": "stream",
          "name": "stdout",
          "text": [
            "3\n",
            "6\n",
            "9\n",
            "12\n",
            "15\n",
            "18\n",
            "21\n",
            "24\n",
            "27\n",
            "30\n"
          ]
        }
      ]
    },
    {
      "cell_type": "markdown",
      "source": [
        "34\n",
        "\n",
        "99부터 0까지 1씩 감소하는 숫자들을, 한 라인에 하나씩 출력하라."
      ],
      "metadata": {
        "id": "Nc5S2O9CLAGv"
      }
    },
    {
      "cell_type": "code",
      "source": [
        "for i in range(99, -1, -1):\n",
        "  print(i)"
      ],
      "metadata": {
        "id": "pZNdmathLBNy",
        "colab": {
          "base_uri": "https://localhost:8080/"
        },
        "outputId": "be1a9c67-06ad-49fe-abf3-13fd457f3d16"
      },
      "execution_count": null,
      "outputs": [
        {
          "output_type": "stream",
          "name": "stdout",
          "text": [
            "99\n",
            "98\n",
            "97\n",
            "96\n",
            "95\n",
            "94\n",
            "93\n",
            "92\n",
            "91\n",
            "90\n",
            "89\n",
            "88\n",
            "87\n",
            "86\n",
            "85\n",
            "84\n",
            "83\n",
            "82\n",
            "81\n",
            "80\n",
            "79\n",
            "78\n",
            "77\n",
            "76\n",
            "75\n",
            "74\n",
            "73\n",
            "72\n",
            "71\n",
            "70\n",
            "69\n",
            "68\n",
            "67\n",
            "66\n",
            "65\n",
            "64\n",
            "63\n",
            "62\n",
            "61\n",
            "60\n",
            "59\n",
            "58\n",
            "57\n",
            "56\n",
            "55\n",
            "54\n",
            "53\n",
            "52\n",
            "51\n",
            "50\n",
            "49\n",
            "48\n",
            "47\n",
            "46\n",
            "45\n",
            "44\n",
            "43\n",
            "42\n",
            "41\n",
            "40\n",
            "39\n",
            "38\n",
            "37\n",
            "36\n",
            "35\n",
            "34\n",
            "33\n",
            "32\n",
            "31\n",
            "30\n",
            "29\n",
            "28\n",
            "27\n",
            "26\n",
            "25\n",
            "24\n",
            "23\n",
            "22\n",
            "21\n",
            "20\n",
            "19\n",
            "18\n",
            "17\n",
            "16\n",
            "15\n",
            "14\n",
            "13\n",
            "12\n",
            "11\n",
            "10\n",
            "9\n",
            "8\n",
            "7\n",
            "6\n",
            "5\n",
            "4\n",
            "3\n",
            "2\n",
            "1\n",
            "0\n"
          ]
        }
      ]
    },
    {
      "cell_type": "markdown",
      "source": [
        "35\n",
        "\n",
        "for문을 사용해서 아래와 같이 출력하라.\n",
        "\n",
        "```\n",
        "0.0\n",
        "0.1\n",
        "0.2\n",
        "0.3\n",
        "0.4\n",
        "0.5\n",
        "...\n",
        "0.9\n",
        "```"
      ],
      "metadata": {
        "id": "JgddzXfPLBk1"
      }
    },
    {
      "cell_type": "code",
      "source": [
        "for i in range(10):\n",
        "  print('0.', i)"
      ],
      "metadata": {
        "id": "i23O197gLHgS",
        "colab": {
          "base_uri": "https://localhost:8080/"
        },
        "outputId": "c6b74faa-6d8f-4685-a2b8-1495bfaf98a3"
      },
      "execution_count": 1,
      "outputs": [
        {
          "output_type": "stream",
          "name": "stdout",
          "text": [
            "0. 0\n",
            "0. 1\n",
            "0. 2\n",
            "0. 3\n",
            "0. 4\n",
            "0. 5\n",
            "0. 6\n",
            "0. 7\n",
            "0. 8\n",
            "0. 9\n"
          ]
        }
      ]
    },
    {
      "cell_type": "markdown",
      "source": [
        "36\n",
        "\n",
        "구구단 3단을 출력하라.\n",
        "```\n",
        "3x1 = 3\n",
        "3x2 = 6\n",
        "3x3 = 9\n",
        "3x4 = 12\n",
        "3x5 = 15\n",
        "3x6 = 18\n",
        "3x7 = 21\n",
        "3x8 = 24\n",
        "3x9 = 27\n",
        "```"
      ],
      "metadata": {
        "id": "_06sP3QELH7V"
      }
    },
    {
      "cell_type": "code",
      "source": [
        "for i in range(9):\n",
        "  print('3x' ,i+1 ,'=', 3*(i+1))"
      ],
      "metadata": {
        "id": "mXlW43ScLLaa",
        "colab": {
          "base_uri": "https://localhost:8080/"
        },
        "outputId": "4a2daaa0-b783-4522-cbc8-178fa45809da"
      },
      "execution_count": 5,
      "outputs": [
        {
          "output_type": "stream",
          "name": "stdout",
          "text": [
            "3x 1 = 3\n",
            "3x 2 = 6\n",
            "3x 3 = 9\n",
            "3x 4 = 12\n",
            "3x 5 = 15\n",
            "3x 6 = 18\n",
            "3x 7 = 21\n",
            "3x 8 = 24\n",
            "3x 9 = 27\n"
          ]
        }
      ]
    },
    {
      "cell_type": "markdown",
      "source": [
        "37\n",
        "\n",
        "구구단 3단을 출력하라. 단 홀수 번째만 출력한다.\n",
        "\n",
        "```\n",
        "3x1 = 3\n",
        "3x3 = 9\n",
        "3x5 = 15\n",
        "3x7 = 21\n",
        "3x9 = 27\n",
        "```"
      ],
      "metadata": {
        "id": "7pjK7TYCLMYs"
      }
    },
    {
      "cell_type": "code",
      "source": [
        "for i in range(0, 10, 2):\n",
        "  print('3x', i+1, '=', 3*(i+1))"
      ],
      "metadata": {
        "id": "G4R92NLJLOUh",
        "colab": {
          "base_uri": "https://localhost:8080/"
        },
        "outputId": "b130e0e5-6d3b-4c40-88fb-9238bfe8f415"
      },
      "execution_count": 7,
      "outputs": [
        {
          "output_type": "stream",
          "name": "stdout",
          "text": [
            "3x 1 = 3\n",
            "3x 3 = 9\n",
            "3x 5 = 15\n",
            "3x 7 = 21\n",
            "3x 9 = 27\n"
          ]
        }
      ]
    },
    {
      "cell_type": "markdown",
      "source": [
        "38\n",
        "\n",
        "1~10까지의 숫자에 대해 모두 더한 값을 출력하는 프로그램을 for 문을 사용하여 작성하라.\n",
        "\n",
        "```\n",
        "합 : 55\n",
        "```"
      ],
      "metadata": {
        "id": "psl-ozEHLPgf"
      }
    },
    {
      "cell_type": "code",
      "source": [
        "num = 0\n",
        "for i in range(11):\n",
        "  num += i\n",
        "print('합 : ', num)"
      ],
      "metadata": {
        "id": "7aH2pY9uLSFR",
        "colab": {
          "base_uri": "https://localhost:8080/"
        },
        "outputId": "9d235b87-5a27-46c8-94ce-665cda197e14"
      },
      "execution_count": 10,
      "outputs": [
        {
          "output_type": "stream",
          "name": "stdout",
          "text": [
            "합 :  55\n"
          ]
        }
      ]
    },
    {
      "cell_type": "markdown",
      "source": [
        "39\n",
        "\n",
        "1~10까지의 숫자 중 모든 홀수의 합을 출력하는 프로그램을 for 문을 사용하여 작성하라.\n",
        "\n",
        "```\n",
        "합: 25\n",
        "```"
      ],
      "metadata": {
        "id": "JTW1VG-PLSij"
      }
    },
    {
      "cell_type": "code",
      "source": [
        "num = 0\n",
        "for i in range(1, 11, 2):\n",
        "  num += i\n",
        "print('합 : ', num)"
      ],
      "metadata": {
        "id": "RG66BTsiLVfh",
        "colab": {
          "base_uri": "https://localhost:8080/"
        },
        "outputId": "f4b93bc5-c4f1-4777-eb77-0559b9ccc88e"
      },
      "execution_count": 12,
      "outputs": [
        {
          "output_type": "stream",
          "name": "stdout",
          "text": [
            "합 :  25\n"
          ]
        }
      ]
    },
    {
      "cell_type": "markdown",
      "source": [
        "40\n",
        "\n",
        "1~10까지의 숫자를 모두 곱한 값을 출력하는 프로그램을 for 문을 사용하여 작성하라."
      ],
      "metadata": {
        "id": "rU0Uwl-xLYFJ"
      }
    },
    {
      "cell_type": "code",
      "source": [
        "num = 1\n",
        "for i in range(1, 11):\n",
        "  num *= i\n",
        "print(num)"
      ],
      "metadata": {
        "id": "r5PwKZ_lLY8x",
        "colab": {
          "base_uri": "https://localhost:8080/"
        },
        "outputId": "101c44bd-f906-4534-f445-3cc925ebd736"
      },
      "execution_count": 14,
      "outputs": [
        {
          "output_type": "stream",
          "name": "stdout",
          "text": [
            "3628800\n"
          ]
        }
      ]
    },
    {
      "cell_type": "markdown",
      "source": [
        "41\n",
        "\n",
        "아래와 같이 리스트의 데이터를 출력하라. 단, for문과 range문을 사용하라.\n",
        "```\n",
        "price_list = [32100, 32150, 32000, 32500]\n",
        "32100\n",
        "32150\n",
        "32000\n",
        "32500\n",
        "```"
      ],
      "metadata": {
        "id": "zIpAlzdoLbTY"
      }
    },
    {
      "cell_type": "code",
      "source": [
        "price_list = [32100, 32150, 32000, 32500]\n",
        "for price in range(len(price_list)):\n",
        "  print(price_list[price])"
      ],
      "metadata": {
        "id": "w6QfFpJXLhct",
        "colab": {
          "base_uri": "https://localhost:8080/"
        },
        "outputId": "856148bc-b8ab-4838-a61e-86a714f16c53"
      },
      "execution_count": 15,
      "outputs": [
        {
          "output_type": "stream",
          "name": "stdout",
          "text": [
            "32100\n",
            "32150\n",
            "32000\n",
            "32500\n"
          ]
        }
      ]
    },
    {
      "cell_type": "markdown",
      "source": [
        "42\n",
        "\n",
        "아래와 같이 리스트의 데이터를 출력하라. 단, for문과 range문을 사용하라.\n",
        "\n",
        "```\n",
        "price_list = [32100, 32150, 32000, 32500]\n",
        "0 32100\n",
        "1 32150\n",
        "2 32000\n",
        "3 32500\n",
        "```"
      ],
      "metadata": {
        "id": "bsViAc6pLi2M"
      }
    },
    {
      "cell_type": "code",
      "source": [
        "price_list = [32100, 32150, 32000, 32500]\n",
        "for num, price in enumerate(range(len(price_list))):\n",
        "  print(num, price_list[num])"
      ],
      "metadata": {
        "id": "Eo19w7kzLjTY",
        "colab": {
          "base_uri": "https://localhost:8080/"
        },
        "outputId": "5a6ac141-ec27-4a8b-a40c-6c9893d280bc"
      },
      "execution_count": 17,
      "outputs": [
        {
          "output_type": "stream",
          "name": "stdout",
          "text": [
            "0 32100\n",
            "1 32150\n",
            "2 32000\n",
            "3 32500\n"
          ]
        }
      ]
    },
    {
      "cell_type": "markdown",
      "source": [
        "43\n",
        "\n",
        "아래와 같이 리스트의 데이터를 출력하라. 단, for문과 range문을 사용하라.\n",
        "\n",
        "```\n",
        "price_list = [32100, 32150, 32000, 32500]\n",
        "3 32100\n",
        "2 32150\n",
        "1 32000\n",
        "0 32500\n",
        "```"
      ],
      "metadata": {
        "id": "PF7H_7H_LkOU"
      }
    },
    {
      "cell_type": "code",
      "source": [
        "price_list = [32100, 32150, 32000, 32500]\n",
        "for num, price in enumerate(price_list):\n",
        "  print(num, price)"
      ],
      "metadata": {
        "id": "ZA1kpp1nLnPB",
        "colab": {
          "base_uri": "https://localhost:8080/"
        },
        "outputId": "9fab3498-7f32-4fa6-9d33-5fa114cef858"
      },
      "execution_count": 24,
      "outputs": [
        {
          "output_type": "stream",
          "name": "stdout",
          "text": [
            "0 32100\n",
            "1 32150\n",
            "2 32000\n",
            "3 32500\n"
          ]
        }
      ]
    },
    {
      "cell_type": "markdown",
      "source": [
        "44\n",
        "\n",
        "아래와 같이 리스트의 데이터를 출력하라. 단, for문과 range문을 사용하라.\n",
        "\n",
        "```\n",
        "price_list = [32100, 32150, 32000, 32500]\n",
        "100 32150\n",
        "110 32000\n",
        "120 32500\n",
        "```"
      ],
      "metadata": {
        "id": "_L9G3mUkLpyx"
      }
    },
    {
      "cell_type": "code",
      "source": [
        "price_list = [32100, 32150, 32000, 32500]\n",
        "for num, price in enumerate(range(len(price_list))):\n",
        "  print((num*10)+100, price_list[price])"
      ],
      "metadata": {
        "id": "Gbci3jZRLsNw",
        "colab": {
          "base_uri": "https://localhost:8080/"
        },
        "outputId": "68d044c8-eb43-4b46-cf7b-3ef2c87bb560"
      },
      "execution_count": 27,
      "outputs": [
        {
          "output_type": "stream",
          "name": "stdout",
          "text": [
            "100 32100\n",
            "110 32150\n",
            "120 32000\n",
            "130 32500\n"
          ]
        }
      ]
    },
    {
      "cell_type": "markdown",
      "source": [
        "45\n",
        "\n",
        "my_list를 아래와 같이 출력하라.\n",
        "\n",
        "```\n",
        "my_list = [\"가\", \"나\", \"다\", \"라\"]\n",
        "가 나\n",
        "나 다\n",
        "다 라\n",
        "```"
      ],
      "metadata": {
        "id": "8n3XqlXsLtUT"
      }
    },
    {
      "cell_type": "code",
      "source": [
        "my_list = [\"가\", \"나\", \"다\", \"라\"]\n",
        "for i in range(len(my_list)-1):\n",
        "  print(my_list[i], my_list[i+1])"
      ],
      "metadata": {
        "id": "ev2lLcsrLvQx",
        "colab": {
          "base_uri": "https://localhost:8080/"
        },
        "outputId": "31ea92c9-9a98-45e4-ca18-4a659f23655b"
      },
      "execution_count": 30,
      "outputs": [
        {
          "output_type": "stream",
          "name": "stdout",
          "text": [
            "가 나\n",
            "나 다\n",
            "다 라\n"
          ]
        }
      ]
    },
    {
      "cell_type": "markdown",
      "source": [
        "46\n",
        "\n",
        "리스트를 아래와 같이 출력하라.\n",
        "\n",
        "```\n",
        "my_list = [\"가\", \"나\", \"다\", \"라\", \"마\"]\n",
        "가 나 다\n",
        "나 다 라\n",
        "다 라 마\n",
        "```"
      ],
      "metadata": {
        "id": "y3_FEeI1Lzba"
      }
    },
    {
      "cell_type": "code",
      "source": [
        "my_list = [\"가\", \"나\", \"다\", \"라\", '마']\n",
        "for i in range(len(my_list)-2):\n",
        "  print(my_list[i], my_list[i+1], my_list[i+2])"
      ],
      "metadata": {
        "id": "QHwzTwexL1fY",
        "colab": {
          "base_uri": "https://localhost:8080/"
        },
        "outputId": "300fa4fb-c961-48c4-8ffb-5100cb9f0981"
      },
      "execution_count": 34,
      "outputs": [
        {
          "output_type": "stream",
          "name": "stdout",
          "text": [
            "가 나 다\n",
            "나 다 라\n",
            "다 라 마\n"
          ]
        }
      ]
    },
    {
      "cell_type": "markdown",
      "source": [
        "47\n",
        "\n",
        "반복문과 range 함수를 사용해서 my_list를 아래와 같이 출력하라.\n",
        "\n",
        "```\n",
        "my_list = [\"가\", \"나\", \"다\", \"라\"]\n",
        "라 다\n",
        "다 나\n",
        "나 가\n",
        "```"
      ],
      "metadata": {
        "id": "VLKZFDnKMBUL"
      }
    },
    {
      "cell_type": "code",
      "source": [
        "my_list = [\"가\", \"나\", \"다\", \"라\"]\n",
        "for i in range(len(my_list))[::-1]:\n",
        "  print(my_list[i], my_list[i-1])"
      ],
      "metadata": {
        "id": "TUfd2eVoMDSY",
        "colab": {
          "base_uri": "https://localhost:8080/"
        },
        "outputId": "d81943c5-ccac-4c64-824e-24907b85e371"
      },
      "execution_count": 36,
      "outputs": [
        {
          "output_type": "stream",
          "name": "stdout",
          "text": [
            "라 다\n",
            "다 나\n",
            "나 가\n",
            "가 라\n"
          ]
        }
      ]
    },
    {
      "cell_type": "markdown",
      "source": [
        "48\n",
        "\n",
        "리스트에는 네 개의 정수가 저장되어 있다. 각각의 데이터에 대해서 자신과 우측값과의 차분값을 화면에 출력하라.\n",
        "\n",
        "```\n",
        "my_list = [100, 200, 400, 800]\n",
        "```\n",
        "예를들어 100을 기준으로 우측에 위치한 200과의 차분 값를 화면에 출력하고, 200을 기준으로 우측에 위치한 400과의 차분값을 화면에 출력한다. 이어서 400을 기준으로 우측에 위치한 800과의 차분값을 화면에 출력한다.\n",
        "```\n",
        "100\n",
        "200\n",
        "400\n",
        "```"
      ],
      "metadata": {
        "id": "tIBwv82dMLMP"
      }
    },
    {
      "cell_type": "code",
      "source": [
        "my_list = [100, 200, 400, 800]\n",
        "for i in range(len(my_list)-1):\n",
        "  print(my_list[i+1] - my_list[i])"
      ],
      "metadata": {
        "id": "qON0RdjOMPDX",
        "colab": {
          "base_uri": "https://localhost:8080/"
        },
        "outputId": "03fb2d17-5cd7-47b6-b5b6-6b0134958143"
      },
      "execution_count": 38,
      "outputs": [
        {
          "output_type": "stream",
          "name": "stdout",
          "text": [
            "100\n",
            "200\n",
            "400\n"
          ]
        }
      ]
    },
    {
      "cell_type": "markdown",
      "source": [
        "49\n",
        "\n",
        "리스트에는 6일 간의 종가 데이터가 저장되어 있다. 종가 데이터의 3일 이동 평균을 계산하고 이를 화면에 출력하라.\n",
        "\n",
        "```\n",
        "my_list = [100, 200, 400, 800, 1000, 1300]\n",
        "```\n",
        "첫 번째 줄에는 100, 200, 400의 평균값이 출력된다. 두 번째 줄에는 200, 400, 800의 평균값이 출력된다. 같은 방식으로 나머지 데이터의 평균을 출력한다.\n",
        "```\n",
        "233.33333333333334\n",
        "466.6666666666667\n",
        "733.3333333333334\n",
        "1033.3333333333333\n",
        "```"
      ],
      "metadata": {
        "id": "CMVVe4tBMQ3D"
      }
    },
    {
      "cell_type": "code",
      "source": [
        "import numpy as np\n",
        "\n",
        "my_list = [100, 200, 400, 800, 1000, 1300]\n",
        "for i in range(len(my_list)-2):\n",
        "  print(np.mean(my_list[i:i+3]))"
      ],
      "metadata": {
        "id": "a1E-LSETMTxf",
        "colab": {
          "base_uri": "https://localhost:8080/"
        },
        "outputId": "540dc638-22c7-4908-cdb7-a2ccba28cfbd"
      },
      "execution_count": 45,
      "outputs": [
        {
          "output_type": "stream",
          "name": "stdout",
          "text": [
            "233.33333333333334\n",
            "466.6666666666667\n",
            "733.3333333333334\n",
            "1033.3333333333333\n"
          ]
        }
      ]
    },
    {
      "cell_type": "markdown",
      "source": [
        "50\n",
        "\n",
        "리스트에 5일간의 저가, 고가 정보가 저장돼 있다. 고가와 저가의 차를 변동폭이라고 정의할 때, low, high 두 개의 리스트를 사용해서 5일간의 변동폭을 volatility 리스트에 저장하라.\n",
        "\n",
        "```\n",
        "low_prices  = [100, 200, 400, 800, 1000]\n",
        "high_prices = [150, 300, 430, 880, 1000]\n",
        "```"
      ],
      "metadata": {
        "id": "XKsgaHAzMWGi"
      }
    },
    {
      "cell_type": "code",
      "source": [
        "low_prices  = [100, 200, 400, 800, 1000]\n",
        "high_prices = [150, 300, 430, 880, 1000]\n",
        "\n",
        "volatility = []\n",
        "for i in range(len(low_prices)):\n",
        "  volatility.append(high_prices[i] - low_prices[i])\n",
        "\n",
        "print(volatility)"
      ],
      "metadata": {
        "colab": {
          "base_uri": "https://localhost:8080/"
        },
        "id": "j9nHF8VJjySv",
        "outputId": "6e6ae8df-4652-42e7-c4b8-623184579955"
      },
      "execution_count": 46,
      "outputs": [
        {
          "output_type": "stream",
          "name": "stdout",
          "text": [
            "[50, 100, 30, 80, 0]\n"
          ]
        }
      ]
    }
  ]
}
