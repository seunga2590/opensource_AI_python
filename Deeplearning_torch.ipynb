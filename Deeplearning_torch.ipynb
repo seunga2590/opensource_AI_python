{
  "nbformat": 4,
  "nbformat_minor": 0,
  "metadata": {
    "colab": {
      "provenance": [],
      "authorship_tag": "ABX9TyOaxDdVBk0UOTMB0ltCOHhP",
      "include_colab_link": true
    },
    "kernelspec": {
      "name": "python3",
      "display_name": "Python 3"
    },
    "language_info": {
      "name": "python"
    },
    "accelerator": "GPU",
    "gpuClass": "standard"
  },
  "cells": [
    {
      "cell_type": "markdown",
      "metadata": {
        "id": "view-in-github",
        "colab_type": "text"
      },
      "source": [
        "<a href=\"https://colab.research.google.com/github/seunga2590/opensource_AI_python/blob/main/Deeplearning_torch.ipynb\" target=\"_parent\"><img src=\"https://colab.research.google.com/assets/colab-badge.svg\" alt=\"Open In Colab\"/></a>"
      ]
    },
    {
      "cell_type": "code",
      "execution_count": 23,
      "metadata": {
        "id": "704rmX_5-CSW"
      },
      "outputs": [],
      "source": [
        "import torch\n",
        "import torch.nn as nn\n",
        "from torch.utils.data import TensorDataset\n",
        "from torch.utils.data import DataLoader\n",
        "# GPU 확인\n",
        "device = 'cuda' if torch.cuda.is_available() else 'cpu'"
      ]
    },
    {
      "cell_type": "code",
      "source": [
        "# 4명의 데이터, 1명당 2개의 컬럼을 가짐 -> 2차원 리스트로 4명의 데이터를 선언 후, 토치의 텐서타입으로 바꿈. 이때, 텐서타입은 float\n",
        "# to(device)는 모델이 GPU에서 연산될 것이기에 to(cuda)를 함으로써 데이터를 gpu에 얹혀 놓는다.\n",
        " \n",
        "X = torch.FloatTensor([[0, 0], [0, 1], [1, 0], [1, 1]]).to(device)\n",
        "Y = torch.FloatTensor([[0], [1], [1], [0]]).to(device)"
      ],
      "metadata": {
        "id": "jfX_FI25-2i-"
      },
      "execution_count": 2,
      "outputs": []
    },
    {
      "cell_type": "code",
      "source": [
        "model = nn.Sequential(\n",
        "          nn.Linear(2, 10, bias=True), \n",
        "          nn.Sigmoid(),\n",
        "          nn.Linear(10, 10, bias=True),\n",
        "          nn.Sigmoid(),\n",
        "          nn.Linear(10, 10, bias=True),\n",
        "          nn.Sigmoid(),\n",
        "          nn.Linear(10, 1, bias=True),\n",
        "          nn.Sigmoid()\n",
        "          ).to(device)"
      ],
      "metadata": {
        "id": "NMgqtbKM-5AM"
      },
      "execution_count": 11,
      "outputs": []
    },
    {
      "cell_type": "code",
      "source": [
        "criterion = torch.nn.MSELoss().to(device)\n",
        "optimizer = torch.optim.Adam(model.parameters(), lr = 0.01)"
      ],
      "metadata": {
        "id": "QCaN0LZYAHce"
      },
      "execution_count": 12,
      "outputs": []
    },
    {
      "cell_type": "code",
      "source": [
        "for epoch in range(50):\n",
        "    optimizer.zero_grad() #옵티마이저의 기울기를 매번 초기화해서 계산해야하기 때문에 초기화하는 함수 선언\n",
        "    hypothesis = model(X) # 모델에 데이터를 넣고, propagation을 진행한 후, 최종 아웃풋을 hypothesis에 담는다.\n",
        "\n",
        "    cost = criterion(hypothesis, Y) #예측값과 정답값 사이의 Mean Square Loss를 구함\n",
        "    cost.backward() #기울기를 구하는 함수\n",
        "    optimizer.step() # backpropagation을 실행해 모델의 모든 w를 업데이트\n",
        "\n",
        "    if epoch % 5 == 0:\n",
        "        print(\"에폭:\", epoch, cost.item()**(1/2)) # 에포크마다 cost값 출력 # 출력값 = RMSE"
      ],
      "metadata": {
        "colab": {
          "base_uri": "https://localhost:8080/"
        },
        "id": "UTMpdrT3EYfG",
        "outputId": "eeb16163-0c5a-4c4c-a51e-ce78bc61b115"
      },
      "execution_count": 15,
      "outputs": [
        {
          "output_type": "stream",
          "name": "stdout",
          "text": [
            "에폭: 0 0.4999190354359732\n",
            "에폭: 5 0.4998889442133957\n",
            "에폭: 10 0.4998179342669248\n",
            "에폭: 15 0.4997455128100464\n",
            "에폭: 20 0.4996222618892676\n",
            "에폭: 25 0.4994388351890409\n",
            "에폭: 30 0.4991480901198411\n",
            "에폭: 35 0.49866937368065334\n",
            "에폭: 40 0.4978595456141407\n",
            "에폭: 45 0.4964364137451552\n"
          ]
        }
      ]
    },
    {
      "cell_type": "code",
      "source": [
        "x_2 = torch.FloatTensor([[0, 0], [0, 1]]).to(device)\n",
        "hypothesis = model(x_2)\n",
        "print(hypothesis)"
      ],
      "metadata": {
        "colab": {
          "base_uri": "https://localhost:8080/"
        },
        "id": "6nN0jS1YFgnf",
        "outputId": "22d6620b-d90d-4693-9970-d93b7ec034de"
      },
      "execution_count": 17,
      "outputs": [
        {
          "output_type": "stream",
          "name": "stdout",
          "text": [
            "tensor([[0.4833],\n",
            "        [0.5127]], device='cuda:0', grad_fn=<SigmoidBackward0>)\n"
          ]
        }
      ]
    },
    {
      "cell_type": "markdown",
      "source": [
        "MINI BATCH DNN"
      ],
      "metadata": {
        "id": "hbY6wB-RH27h"
      }
    },
    {
      "cell_type": "code",
      "source": [
        "device = 'cuda' if torch.cuda.is_available() else 'cpu'"
      ],
      "metadata": {
        "id": "8KgrFjpnGRId"
      },
      "execution_count": 20,
      "outputs": []
    },
    {
      "cell_type": "code",
      "source": [
        "x_train = torch.FloatTensor([[73, 80, 75],\n",
        "                             [93, 88, 93],\n",
        "                             [89, 91, 90],\n",
        "                             [96, 98, 100],\n",
        "                             [73, 66, 70]])\n",
        "y_train = torch.FloatTensor([[152], [185], [180], [196], [142]])"
      ],
      "metadata": {
        "id": "BG7yQqVFH5fq"
      },
      "execution_count": 21,
      "outputs": []
    },
    {
      "cell_type": "code",
      "source": [
        "dataset = TensorDataset(x_train, y_train)\n",
        "dataloader = DataLoader(dataset, batch_size=2, shuffle=True)"
      ],
      "metadata": {
        "id": "paj4BEKtH7Xs"
      },
      "execution_count": 24,
      "outputs": []
    },
    {
      "cell_type": "code",
      "source": [
        "model = nn.Sequential(\n",
        "          nn.Linear(3, 10, bias=True), \n",
        "          nn.ReLU(),\n",
        "          nn.Linear(10, 10, bias=True), \n",
        "          nn.ReLU(),\n",
        "          nn.Linear(10, 10, bias=True), \n",
        "          nn.ReLU(),\n",
        "          nn.Linear(10, 1, bias=True), \n",
        "          nn.ReLU()\n",
        "          ).to(device)"
      ],
      "metadata": {
        "id": "_7TgoGwVJZ8b"
      },
      "execution_count": 33,
      "outputs": []
    },
    {
      "cell_type": "code",
      "source": [
        "criterion = torch.nn.MSELoss().to(device)\n",
        "optimizer = torch.optim.SGD(model.parameters(), lr=1e-5) # 0.00001"
      ],
      "metadata": {
        "id": "C1Lh3txqKqIp"
      },
      "execution_count": 34,
      "outputs": []
    },
    {
      "cell_type": "code",
      "source": [
        "nb_epochs = 5\n",
        "for epoch in range(nb_epochs + 1): \n",
        "  for batch_idx, samples in enumerate(dataloader): # mini batch사용 -> GPU가 부족해서\n",
        "\n",
        "    x_train, y_train = samples\n",
        "\n",
        "    x_train= x_train.to(device)\n",
        "    y_train = y_train.to(device)\n",
        "    \n",
        "    # H(x) 계산\n",
        "    prediction = model(x_train)\n",
        "\n",
        "    # cost 계산\n",
        "    cost = criterion(prediction, y_train)\n",
        "\n",
        "    # cost로 H(x) 계산\n",
        "    optimizer.zero_grad()\n",
        "    cost.backward()\n",
        "    optimizer.step()\n",
        "\n",
        "    print('Epoch {:4d}/{} Batch {}/{} Cost: {:.6f}'.format(\n",
        "        epoch, nb_epochs, batch_idx+1, len(dataloader),\n",
        "        cost.item()\n",
        "        ))\n",
        "    \n",
        "    # 한 번에 데이터를 넣을 때와 나누어 넣을 때 나누어 넣으면 backpropagation을 더 많이하고 가중치 값이 더 많아져 overfitting을 유발할 수 있음\n",
        "    # mini batch 할 경우, 에포크를 줄여서 진행"
      ],
      "metadata": {
        "colab": {
          "base_uri": "https://localhost:8080/"
        },
        "id": "NAWWIW4eLO6U",
        "outputId": "5b16a728-535b-4ed3-86b9-aed837b965ea"
      },
      "execution_count": 35,
      "outputs": [
        {
          "output_type": "stream",
          "name": "stdout",
          "text": [
            "Epoch    0/5 Batch 1/3 Cost: 27752.000000\n",
            "Epoch    0/5 Batch 2/3 Cost: 29290.000000\n",
            "Epoch    0/5 Batch 3/3 Cost: 34225.000000\n",
            "Epoch    1/5 Batch 1/3 Cost: 33312.500000\n",
            "Epoch    1/5 Batch 2/3 Cost: 21634.000000\n",
            "Epoch    1/5 Batch 3/3 Cost: 38416.000000\n",
            "Epoch    2/5 Batch 1/3 Cost: 27194.500000\n",
            "Epoch    2/5 Batch 2/3 Cost: 27752.000000\n",
            "Epoch    2/5 Batch 3/3 Cost: 38416.000000\n",
            "Epoch    3/5 Batch 1/3 Cost: 36320.500000\n",
            "Epoch    3/5 Batch 2/3 Cost: 26282.000000\n",
            "Epoch    3/5 Batch 3/3 Cost: 23104.000000\n",
            "Epoch    4/5 Batch 1/3 Cost: 30760.000000\n",
            "Epoch    4/5 Batch 2/3 Cost: 33312.500000\n",
            "Epoch    4/5 Batch 3/3 Cost: 20164.000000\n",
            "Epoch    5/5 Batch 1/3 Cost: 21634.000000\n",
            "Epoch    5/5 Batch 2/3 Cost: 35408.000000\n",
            "Epoch    5/5 Batch 3/3 Cost: 34225.000000\n"
          ]
        }
      ]
    },
    {
      "cell_type": "markdown",
      "source": [
        "### CNN"
      ],
      "metadata": {
        "id": "T2UpoTCxSWdC"
      }
    },
    {
      "cell_type": "code",
      "source": [
        "import torch\n",
        "import torchvision.datasets as dsets\n",
        "import torchvision.transforms as transforms\n",
        "import torch.nn.init"
      ],
      "metadata": {
        "id": "0-emSBBKMhDf"
      },
      "execution_count": 36,
      "outputs": []
    },
    {
      "cell_type": "code",
      "source": [
        "device = 'cuda' if torch.cuda.is_available() else 'cpu'\n",
        "\n",
        "# 랜덤 시드 고정\n",
        "torch.manual_seed(24)"
      ],
      "metadata": {
        "colab": {
          "base_uri": "https://localhost:8080/"
        },
        "id": "AIyJZklRSaOV",
        "outputId": "d55893a5-1dd4-4b1f-bf40-1934d516b3de"
      },
      "execution_count": 37,
      "outputs": [
        {
          "output_type": "execute_result",
          "data": {
            "text/plain": [
              "<torch._C.Generator at 0x7fa87c04b530>"
            ]
          },
          "metadata": {},
          "execution_count": 37
        }
      ]
    },
    {
      "cell_type": "code",
      "source": [
        "learning_rate = 0.001\n",
        "training_epochs = 15\n",
        "batch_size = 100"
      ],
      "metadata": {
        "id": "xU7nwXtkScEG"
      },
      "execution_count": 38,
      "outputs": []
    },
    {
      "cell_type": "code",
      "source": [
        "mnist_train = dsets.MNIST(root='MNIST_data/', # 다운로드 경로 지정\n",
        "                          train=True, # True를 지정하면 훈련 데이터로 다운로드\n",
        "                          transform=transforms.ToTensor(), # 텐서로 변환\n",
        "                          download=True)\n",
        "\n",
        "mnist_test = dsets.MNIST(root='MNIST_data/', # 다운로드 경로 지정\n",
        "                         train=False, # False를 지정하면 테스트 데이터로 다운로드\n",
        "                         transform=transforms.ToTensor(), # 텐서로 변환\n",
        "                         download=True)"
      ],
      "metadata": {
        "colab": {
          "base_uri": "https://localhost:8080/"
        },
        "id": "B3vBs3vySw6J",
        "outputId": "a5e0534b-2f7f-4535-df72-074dcb852106"
      },
      "execution_count": 39,
      "outputs": [
        {
          "output_type": "stream",
          "name": "stdout",
          "text": [
            "Downloading http://yann.lecun.com/exdb/mnist/train-images-idx3-ubyte.gz\n",
            "Downloading http://yann.lecun.com/exdb/mnist/train-images-idx3-ubyte.gz to MNIST_data/MNIST/raw/train-images-idx3-ubyte.gz\n"
          ]
        },
        {
          "output_type": "stream",
          "name": "stderr",
          "text": [
            "100%|██████████| 9912422/9912422 [00:00<00:00, 458999450.69it/s]"
          ]
        },
        {
          "output_type": "stream",
          "name": "stdout",
          "text": [
            "Extracting MNIST_data/MNIST/raw/train-images-idx3-ubyte.gz to MNIST_data/MNIST/raw\n"
          ]
        },
        {
          "output_type": "stream",
          "name": "stderr",
          "text": [
            "\n"
          ]
        },
        {
          "output_type": "stream",
          "name": "stdout",
          "text": [
            "\n",
            "Downloading http://yann.lecun.com/exdb/mnist/train-labels-idx1-ubyte.gz\n",
            "Downloading http://yann.lecun.com/exdb/mnist/train-labels-idx1-ubyte.gz to MNIST_data/MNIST/raw/train-labels-idx1-ubyte.gz\n"
          ]
        },
        {
          "output_type": "stream",
          "name": "stderr",
          "text": [
            "100%|██████████| 28881/28881 [00:00<00:00, 119345511.16it/s]\n"
          ]
        },
        {
          "output_type": "stream",
          "name": "stdout",
          "text": [
            "Extracting MNIST_data/MNIST/raw/train-labels-idx1-ubyte.gz to MNIST_data/MNIST/raw\n",
            "\n",
            "Downloading http://yann.lecun.com/exdb/mnist/t10k-images-idx3-ubyte.gz\n",
            "Downloading http://yann.lecun.com/exdb/mnist/t10k-images-idx3-ubyte.gz to MNIST_data/MNIST/raw/t10k-images-idx3-ubyte.gz\n"
          ]
        },
        {
          "output_type": "stream",
          "name": "stderr",
          "text": [
            "100%|██████████| 1648877/1648877 [00:00<00:00, 170094970.28it/s]\n"
          ]
        },
        {
          "output_type": "stream",
          "name": "stdout",
          "text": [
            "Extracting MNIST_data/MNIST/raw/t10k-images-idx3-ubyte.gz to MNIST_data/MNIST/raw\n",
            "\n",
            "Downloading http://yann.lecun.com/exdb/mnist/t10k-labels-idx1-ubyte.gz\n",
            "Downloading http://yann.lecun.com/exdb/mnist/t10k-labels-idx1-ubyte.gz to MNIST_data/MNIST/raw/t10k-labels-idx1-ubyte.gz\n"
          ]
        },
        {
          "output_type": "stream",
          "name": "stderr",
          "text": [
            "100%|██████████| 4542/4542 [00:00<00:00, 23724195.23it/s]"
          ]
        },
        {
          "output_type": "stream",
          "name": "stdout",
          "text": [
            "Extracting MNIST_data/MNIST/raw/t10k-labels-idx1-ubyte.gz to MNIST_data/MNIST/raw\n",
            "\n"
          ]
        },
        {
          "output_type": "stream",
          "name": "stderr",
          "text": [
            "\n"
          ]
        }
      ]
    },
    {
      "cell_type": "code",
      "source": [
        "data_loader = torch.utils.data.DataLoader(dataset=mnist_train,\n",
        "                                          batch_size=batch_size,\n",
        "                                          shuffle=True,\n",
        "                                          drop_last=True)"
      ],
      "metadata": {
        "id": "JwDEcC27VqI4"
      },
      "execution_count": 40,
      "outputs": []
    },
    {
      "cell_type": "code",
      "source": [
        "# torch.nn.Module:  PyTorch의 모든 Neural Network의 Base Class\n",
        "class CNN(torch.nn.Module):\n",
        "\n",
        "    def __init__(self):\n",
        "        super(CNN, self).__init__()\n",
        "        # 첫번째층\n",
        "        # ImgIn shape=(?, 28, 28, 1)\n",
        "        #    Conv     -> (?, 28, 28, 32)\n",
        "        #    Pool     -> (?, 14, 14, 32)\n",
        "        self.layer1 = torch.nn.Sequential(\n",
        "            torch.nn.Conv2d(1, 32, kernel_size=3, stride=1, padding=1),\n",
        "            torch.nn.ReLU(),\n",
        "            torch.nn.MaxPool2d(kernel_size=2, stride=2))\n",
        "\n",
        "        # 두번째층\n",
        "        # ImgIn shape=(?, 14, 14, 32)\n",
        "        #    Conv      ->(?, 14, 14, 64)\n",
        "        #    Pool      ->(?, 7, 7, 64)\n",
        "        self.layer2 = torch.nn.Sequential(\n",
        "            torch.nn.Conv2d(32, 64, kernel_size=3, stride=1, padding=1),\n",
        "            torch.nn.ReLU(),\n",
        "            torch.nn.MaxPool2d(kernel_size=2, stride=2))\n",
        "\n",
        "        # 전결합층 7x7x64 inputs -> 10 outputs\n",
        "        self.fc = torch.nn.Linear(7 * 7 * 64, 10, bias=True)\n",
        "\n",
        "        # 전결합층 한정으로 가중치 초기화\n",
        "        torch.nn.init.xavier_uniform_(self.fc.weight)\n",
        "\n",
        "    def forward(self, x):\n",
        "        out = self.layer1(x)\n",
        "        out = self.layer2(out)\n",
        "        out = out.view(out.size(0), -1)   # 전결합층을 위해서 Flatten\n",
        "        out = self.fc(out)\n",
        "        return out"
      ],
      "metadata": {
        "id": "aGd1WDG0VrfD"
      },
      "execution_count": 41,
      "outputs": []
    },
    {
      "cell_type": "code",
      "source": [
        "# CNN 모델 정의\n",
        "model = CNN().to(device)"
      ],
      "metadata": {
        "id": "MW01xzifYBs6"
      },
      "execution_count": 42,
      "outputs": []
    },
    {
      "cell_type": "code",
      "source": [
        "criterion = torch.nn.CrossEntropyLoss().to(device)    # 비용 함수에 소프트맥스 함수 포함되어져 있음.\n",
        "optimizer = torch.optim.Adam(model.parameters(), lr=learning_rate)"
      ],
      "metadata": {
        "id": "vfWoAce0YDnC"
      },
      "execution_count": 43,
      "outputs": []
    },
    {
      "cell_type": "code",
      "source": [
        "total_batch = len(data_loader)\n",
        "print('총 배치의 수 : {}'.format(total_batch))"
      ],
      "metadata": {
        "colab": {
          "base_uri": "https://localhost:8080/"
        },
        "id": "JtiLB5pHYFHE",
        "outputId": "801403b3-316b-405f-b060-2efee2b8f2f6"
      },
      "execution_count": 44,
      "outputs": [
        {
          "output_type": "stream",
          "name": "stdout",
          "text": [
            "총 배치의 수 : 600\n"
          ]
        }
      ]
    },
    {
      "cell_type": "code",
      "source": [
        "for epoch in range(training_epochs):\n",
        "    avg_cost = 0\n",
        "\n",
        "    for X, Y in data_loader: # 미니 배치 단위로 꺼내온다. X는 미니 배치, Y는 레이블.\n",
        "        # image is already size of (28x28), no reshape\n",
        "\n",
        "        X = X.to(device)\n",
        "        Y = Y.to(device)\n",
        "\n",
        "        optimizer.zero_grad()\n",
        "        hypothesis = model(X)\n",
        "        cost = criterion(hypothesis, Y)\n",
        "        cost.backward()\n",
        "        optimizer.step()\n",
        "\n",
        "        avg_cost += cost / total_batch\n",
        "\n",
        "    print('[Epoch: {:>4}] cost = {:>.9}'.format(epoch + 1, avg_cost))"
      ],
      "metadata": {
        "colab": {
          "base_uri": "https://localhost:8080/"
        },
        "id": "C0lqe38iYGdc",
        "outputId": "4b19d5a5-b0f1-43ae-8d36-ff87f39b5cba"
      },
      "execution_count": 45,
      "outputs": [
        {
          "output_type": "stream",
          "name": "stdout",
          "text": [
            "[Epoch:    1] cost = 0.212304473\n",
            "[Epoch:    2] cost = 0.060716711\n",
            "[Epoch:    3] cost = 0.0448936783\n",
            "[Epoch:    4] cost = 0.036229115\n",
            "[Epoch:    5] cost = 0.0306792744\n",
            "[Epoch:    6] cost = 0.0251198597\n",
            "[Epoch:    7] cost = 0.021560574\n",
            "[Epoch:    8] cost = 0.0185507275\n",
            "[Epoch:    9] cost = 0.0156751964\n",
            "[Epoch:   10] cost = 0.0137288449\n",
            "[Epoch:   11] cost = 0.0105320672\n",
            "[Epoch:   12] cost = 0.0106347837\n",
            "[Epoch:   13] cost = 0.00774629833\n",
            "[Epoch:   14] cost = 0.00656339806\n",
            "[Epoch:   15] cost = 0.00614164583\n"
          ]
        }
      ]
    },
    {
      "cell_type": "code",
      "source": [
        "from sklearn.metrics import f1_score\n",
        "\n",
        "# 학습을 진행하지 않을 것이므로 torch.no_grad(), gradient descent를 하지마라고 명령내리는 것\n",
        "with torch.no_grad():\n",
        "    X_test = mnist_test.test_data.view(len(mnist_test), 1, 28, 28).float().to(device)\n",
        "    Y_test = mnist_test.test_labels.to(device)\n",
        "\n",
        "    prediction = model(X_test)\n",
        "                        # CNN은 10개의 아웃풋으로 각 10개의 클래스에 대한 피처값이 나온다, \n",
        "                        # 이를 axis 1방향으로 max값을 찾는다는 것\n",
        "    correct_prediction = torch.argmax(prediction, 1) == Y_test #  Y_test는 숫자 정답값임.\n",
        "                          # torch.argmax(prediction, 1)는 피쳐값중 max인 인덱스(=label)을 뽑는것 \n",
        "    \n",
        "    # print( f1_score(torch.argmax(prediction, 1),Y_test) )\n",
        "     \n",
        "    #accuracy = correct_prediction.float().mean()\n",
        "    #print('Accuracy:', accuracy.item())"
      ],
      "metadata": {
        "colab": {
          "base_uri": "https://localhost:8080/"
        },
        "id": "j7zWSLlVYHrO",
        "outputId": "606495c2-7522-4e59-8a77-49760e6fb317"
      },
      "execution_count": 47,
      "outputs": [
        {
          "output_type": "stream",
          "name": "stderr",
          "text": [
            "/usr/local/lib/python3.9/dist-packages/torchvision/datasets/mnist.py:80: UserWarning: test_data has been renamed data\n",
            "  warnings.warn(\"test_data has been renamed data\")\n",
            "/usr/local/lib/python3.9/dist-packages/torchvision/datasets/mnist.py:70: UserWarning: test_labels has been renamed targets\n",
            "  warnings.warn(\"test_labels has been renamed targets\")\n"
          ]
        }
      ]
    },
    {
      "cell_type": "code",
      "source": [
        "# 모델 저장 \n",
        "torch.save(model.state_dict(),\"cnn_model.pt\")"
      ],
      "metadata": {
        "id": "SkynltdpaZVV"
      },
      "execution_count": 48,
      "outputs": []
    },
    {
      "cell_type": "code",
      "source": [
        "model = CNN().to(device)\n",
        "model.load_state_dict(torch.load('cnn_model.pt'))\n",
        "model.eval()"
      ],
      "metadata": {
        "colab": {
          "base_uri": "https://localhost:8080/"
        },
        "id": "zaLM_02Qadp8",
        "outputId": "4a840480-6bc9-41bd-a16a-f9d7db0d799b"
      },
      "execution_count": 49,
      "outputs": [
        {
          "output_type": "execute_result",
          "data": {
            "text/plain": [
              "CNN(\n",
              "  (layer1): Sequential(\n",
              "    (0): Conv2d(1, 32, kernel_size=(3, 3), stride=(1, 1), padding=(1, 1))\n",
              "    (1): ReLU()\n",
              "    (2): MaxPool2d(kernel_size=2, stride=2, padding=0, dilation=1, ceil_mode=False)\n",
              "  )\n",
              "  (layer2): Sequential(\n",
              "    (0): Conv2d(32, 64, kernel_size=(3, 3), stride=(1, 1), padding=(1, 1))\n",
              "    (1): ReLU()\n",
              "    (2): MaxPool2d(kernel_size=2, stride=2, padding=0, dilation=1, ceil_mode=False)\n",
              "  )\n",
              "  (fc): Linear(in_features=3136, out_features=10, bias=True)\n",
              ")"
            ]
          },
          "metadata": {},
          "execution_count": 49
        }
      ]
    },
    {
      "cell_type": "code",
      "source": [
        "# 학습을 진행하지 않을 것이므로 torch.no_grad(), gradient descent를 하지마라고 명령내리는 것\n",
        "with torch.no_grad():\n",
        "    X_test = mnist_test.test_data.view(len(mnist_test), 1, 28, 28).float().to(device)\n",
        "    Y_test = mnist_test.test_labels.to(device)\n",
        "  \n",
        "    prediction = model(X_test)\n",
        "    correct_prediction = torch.argmax(prediction, 1) == Y_test\n",
        "    accuracy = correct_prediction.float().mean()\n",
        "    print('Accuracy:', accuracy.item())"
      ],
      "metadata": {
        "colab": {
          "base_uri": "https://localhost:8080/"
        },
        "id": "9UM5O6y1sPMq",
        "outputId": "c1a8557f-0b1a-4ecb-9852-59b5c4740636"
      },
      "execution_count": 50,
      "outputs": [
        {
          "output_type": "stream",
          "name": "stdout",
          "text": [
            "Accuracy: 0.988599956035614\n"
          ]
        },
        {
          "output_type": "stream",
          "name": "stderr",
          "text": [
            "/usr/local/lib/python3.9/dist-packages/torchvision/datasets/mnist.py:80: UserWarning: test_data has been renamed data\n",
            "  warnings.warn(\"test_data has been renamed data\")\n",
            "/usr/local/lib/python3.9/dist-packages/torchvision/datasets/mnist.py:70: UserWarning: test_labels has been renamed targets\n",
            "  warnings.warn(\"test_labels has been renamed targets\")\n"
          ]
        }
      ]
    },
    {
      "cell_type": "code",
      "source": [
        "# 학습을 진행하지 않을 것이므로 torch.no_grad(), gradient descent를 하지마라고 명령내리는 것\n",
        "\n",
        "from PIL import Image\n",
        "import numpy as np\n",
        "import matplotlib.pyplot as plt\n",
        "\n",
        "with torch.no_grad():\n",
        "\n",
        "    # 이미지 파일 경로 설정\n",
        "    img = Image.open(\"./8.png\")\n",
        "    transform = transforms.Compose([\n",
        "          transforms.Grayscale(num_output_channels=1), # RGB(3D) -> Gray(2D)\n",
        "          transforms.Resize((28, 28)), # 모델 인풋에 맞게\n",
        "          transforms.ToTensor(), # 토치 텐서 타입으로 맞춰줘야함\n",
        "      ])       \n",
        "    \n",
        "    img_tensor = transform(img).to(device) # [1, 28, 28]\n",
        "    img_tensor = img_tensor.unsqueeze(0) # [1, 1, 28, 28] # [1, 3, 28, 28]이었다면 RGB타입\n",
        "\n",
        "    print(img_tensor.shape)\n",
        "\n",
        "    prediction = model(img_tensor)\n",
        "                        # CNN은 10개의 아웃풋으로 각 10개의 클래스에 대한 피처값이 나온다, 이를 axis 1방향으로 max값을 찾는다는 것 \n",
        "    print('result:', torch.argmax(prediction, 1))\n",
        "    print(prediction) # 10개의 아웃풋 중 가장 큰 값을 찾기"
      ],
      "metadata": {
        "colab": {
          "base_uri": "https://localhost:8080/"
        },
        "id": "iFG80mHctZhQ",
        "outputId": "0080451e-e956-4085-98b4-24a7a477ba6c"
      },
      "execution_count": 52,
      "outputs": [
        {
          "output_type": "stream",
          "name": "stdout",
          "text": [
            "torch.Size([1, 1, 28, 28])\n",
            "result: tensor([8], device='cuda:0')\n",
            "tensor([[ -8.7651, -16.2537,  -4.8365,   0.3974, -10.5339, -10.0879, -12.2443,\n",
            "         -11.2590,  17.7824,   2.1562]], device='cuda:0')\n"
          ]
        }
      ]
    },
    {
      "cell_type": "code",
      "source": [],
      "metadata": {
        "id": "9wJytxo9trJB"
      },
      "execution_count": null,
      "outputs": []
    }
  ]
}